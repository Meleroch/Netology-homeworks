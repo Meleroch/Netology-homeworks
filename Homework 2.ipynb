{
 "cells": [
  {
   "cell_type": "markdown",
   "metadata": {},
   "source": [
    "## Задание 1\n",
    "\n",
    "Даны 2 переменных, в которых хранятся строки произвольной длины: phrase_1 и phrase_2.\n",
    "Напишите код, который проверяет какая из этих строк длиннее."
   ]
  },
  {
   "cell_type": "code",
   "execution_count": 1,
   "metadata": {},
   "outputs": [
    {
     "name": "stdout",
     "output_type": "stream",
     "text": [
      "Введите фразу 1: Попробуй еще этих мягких французских булок\n",
      "Введите фразу 2: Персик, сладкий персик\n",
      "Фраза 1 длинее фразы 2\n"
     ]
    }
   ],
   "source": [
    "phrase_1 = input('Введите фразу 1: ')\n",
    "phrase_2 = input('Введите фразу 2: ')\n",
    "if len(phrase_1) > len(phrase_2):\n",
    "    print('Фраза 1 длинее фразы 2')\n",
    "elif len(phrase_1) < len(phrase_2):\n",
    "    print('Фраза 2 длинее фразы 1')\n",
    "else:\n",
    "    print('Фразы равной длины')"
   ]
  },
  {
   "cell_type": "markdown",
   "metadata": {},
   "source": [
    "## Задание 2\n",
    "Дана переменная, в которой хранится четырехзначное число (год). Необходимо написать программу, которая выведет, является ли данный год високосным или обычным."
   ]
  },
  {
   "cell_type": "code",
   "execution_count": 2,
   "metadata": {},
   "outputs": [
    {
     "name": "stdout",
     "output_type": "stream",
     "text": [
      "Введите год: 2020\n",
      "Високосный год\n"
     ]
    }
   ],
   "source": [
    "year = int(input('Введите год: '))\n",
    "if (year % 400 == 0) or (year % 4 == 0 and year % 100 != 0):\n",
    "    print('Високосный год')\n",
    "else:\n",
    "    print('Обычный год')"
   ]
  },
  {
   "cell_type": "markdown",
   "metadata": {},
   "source": [
    "## Задание 3\n",
    "Необходимо написать программу, которая будет запрашивать у пользователя месяц и дату рождения и выводить соответствующий знак зодиака."
   ]
  },
  {
   "cell_type": "code",
   "execution_count": 20,
   "metadata": {},
   "outputs": [
    {
     "name": "stdout",
     "output_type": "stream",
     "text": [
      "Введите день: 3\n",
      "Введите месяц: апрель\n",
      "Ваш знак зодиака: Овен\n"
     ]
    }
   ],
   "source": [
    "day_of_birth = int(input('Введите день: '))\n",
    "month_of_birth = input('Введите месяц: ')\n",
    "if (month_of_birth == 'Март' or month_of_birth == 'март' or month_of_birth == '3' and day_of_birth >= 21 and day_of_birth <= 31) or (month_of_birth == 'Апрель' or month_of_birth == 'апрель' or month_of_birth == '4' and day_of_birth <= 20):\n",
    "    print('Ваш знак зодиака: Овен')\n",
    "elif (month_of_birth == 'Апрель' or month_of_birth == 'апрель' or month_of_birth == '4' and day_of_birth >= 21 and day_of_birth <= 30) or (month_of_birth == 'Май' or month_of_birth == 'май' or month_of_birth == '5' and day_of_birth <= 21):\n",
    "    print('Ваш знак зодиака: Телец')\n",
    "elif (month_of_birth == 'Май' or month_of_birth == 'май' or month_of_birth == '5' and day_of_birth >= 22 and day_of_birth <= 31) or (month_of_birth == 'Июнь' or month_of_birth == 'июнь' or month_of_birth == '6' and day_of_birth <= 21):\n",
    "    print('Ваш знак зодиака: Близнецы')\n",
    "elif (month_of_birth == 'Июнь' or month_of_birth == 'июнь' or month_of_birth == '6' and day_of_birth >= 22 and day_of_birth <= 30) or (month_of_birth == 'Июль' or month_of_birth == 'июль' or month_of_birth == '7' and day_of_birth <= 22):\n",
    "    print('Ваш знак зодиака: Рак')\n",
    "elif (month_of_birth == 'Июль' or month_of_birth == 'июль' or month_of_birth == '7' and day_of_birth >= 23 and day_of_birth <= 31) or (month_of_birth == 'Август' or month_of_birth == 'август' or month_of_birth == '8' and day_of_birth <= 21):\n",
    "    print('Ваш знак зодиака: Лев')\n",
    "elif (month_of_birth == 'Август' or month_of_birth == 'август' or month_of_birth == '8' and day_of_birth >= 22 and day_of_birth <= 31) or (month_of_birth == 'Сентябрь' or month_of_birth == 'сентябрь' or month_of_birth == '9' and day_of_birth <= 23):\n",
    "    print('Ваш знак зодиака: Дева')\n",
    "elif (month_of_birth == 'Сентябрь' or month_of_birth == 'сентябрь' or month_of_birth == '9' and day_of_birth >= 24 and day_of_birth <= 30) or (month_of_birth == 'Октярбь' or month_of_birth == 'октябрь' or month_of_birth == '10' and day_of_birth <= 23):\n",
    "    print('Ваш знак зодиака: Весы')\n",
    "elif (month_of_birth == 'Октябрь' or month_of_birth == 'октябрь' or month_of_birth == '10' and day_of_birth >= 24 and day_of_birth <= 31) or (month_of_birth == 'Ноябрь' or month_of_birth == 'ноябрь' or month_of_birth == '11' and day_of_birth <= 22):\n",
    "    print('Ваш знак зодиака: Скорпион')\n",
    "elif (month_of_birth == 'Ноябрь' or month_of_birth == 'ноябрь' or month_of_birth == '11' and day_of_birth >= 23 and day_of_birth <= 30) or (month_of_birth == 'Декабрь' or month_of_birth == 'декабрь' or month_of_birth == '12' and day_of_birth <= 22):\n",
    "    print('Ваш знак зодиака: Стрелец')\n",
    "elif (month_of_birth == 'Декабрь' or month_of_birth == 'декабрь' or month_of_birth == '12' and day_of_birth >= 23 and day_of_birth <= 31) or (month_of_birth == 'Январь' or month_of_birth == 'январь' or month_of_birth == '1' and day_of_birth <= 20):\n",
    "    print('Ваш знак зодиака: Козерог')\n",
    "elif (month_of_birth == 'Январь' or month_of_birth == 'январь' or month_of_birth == '1' and day_of_birth >= 21 and day_of_birth <= 31) or (month_of_birth == 'Февраль' or month_of_birth == 'февраль' or month_of_birth == '2' and day_of_birth <= 19):\n",
    "    print('Ваш знак зодиака: Водолей')\n",
    "elif (month_of_birth == 'Февраль' or month_of_birth == 'февраль' or month_of_birth == '2' and day_of_birth >= 20 and day_of_birth <= 29) or (month_of_birth == 'Март' and day_of_birth <= 20):\n",
    "    print('Ваш знак зодиака: Рыбы')\n",
    "else:\n",
    "    print('Ошибка ввода')"
   ]
  },
  {
   "cell_type": "markdown",
   "metadata": {},
   "source": [
    "## Задание 4\n",
    "Вам нужно написать программу для подбора упаковок по размерам товара. Размеры хранятся в переменных (в сантиметрах)"
   ]
  },
  {
   "cell_type": "code",
   "execution_count": 22,
   "metadata": {},
   "outputs": [
    {
     "name": "stdout",
     "output_type": "stream",
     "text": [
      "Упаковка для лыж\n"
     ]
    }
   ],
   "source": [
    "width = 45\n",
    "length = 205\n",
    "height = 45\n",
    "if length > 200:\n",
    "    print('Упаковка для лыж')\n",
    "elif width < 15 and length < 15 and height < 15:\n",
    "    print('Коробка № 1')\n",
    "elif (width > 15 and width < 50) or (length > 15 and length < 50) or (height > 15 and height < 50):\n",
    "    print('Коробка № 2') \n",
    "else:\n",
    "    print('Стандартная коробка № 3')"
   ]
  },
  {
   "cell_type": "code",
   "execution_count": null,
   "metadata": {},
   "outputs": [],
   "source": []
  }
 ],
 "metadata": {
  "kernelspec": {
   "display_name": "Python 3",
   "language": "python",
   "name": "python3"
  },
  "language_info": {
   "codemirror_mode": {
    "name": "ipython",
    "version": 3
   },
   "file_extension": ".py",
   "mimetype": "text/x-python",
   "name": "python",
   "nbconvert_exporter": "python",
   "pygments_lexer": "ipython3",
   "version": "3.8.5"
  }
 },
 "nbformat": 4,
 "nbformat_minor": 4
}
